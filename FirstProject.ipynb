{
 "cells": [
  {
   "cell_type": "markdown",
   "id": "23ee0a84-040c-487e-8ece-aaf81a0ed14a",
   "metadata": {},
   "source": [
    "# Data Preprocessing and Cleaning"
   ]
  },
  {
   "cell_type": "code",
   "execution_count": 1,
   "id": "cd7976bb-136d-43e1-9062-d30cca87a134",
   "metadata": {},
   "outputs": [],
   "source": [
    "import pandas as pd"
   ]
  },
  {
   "cell_type": "code",
   "execution_count": 2,
   "id": "4fc4d712-be9d-4153-8b0f-b91dd8bda23e",
   "metadata": {},
   "outputs": [],
   "source": [
    "# Load dataset and preview data structure\n",
    "df= pd.read_csv(\"C:\\\\Users\\\\olale\\\\Downloads\\\\fashion_reviews_cleaned.csv\")"
   ]
  },
  {
   "cell_type": "code",
   "execution_count": 3,
   "id": "3e6e00f9-6513-4dbb-8e80-df53fc6c8f39",
   "metadata": {},
   "outputs": [
    {
     "name": "stdout",
     "output_type": "stream",
     "text": [
      "<class 'pandas.core.frame.DataFrame'>\n",
      "RangeIndex: 2500939 entries, 0 to 2500938\n",
      "Data columns (total 9 columns):\n",
      " #   Column             Dtype  \n",
      "---  ------             -----  \n",
      " 0   rating             float64\n",
      " 1   text               object \n",
      " 2   asin               object \n",
      " 3   user_id            object \n",
      " 4   timestamp          int64  \n",
      " 5   helpful_vote       int64  \n",
      " 6   verified_purchase  bool   \n",
      " 7   main_category      object \n",
      " 8   review_date        object \n",
      "dtypes: bool(1), float64(1), int64(2), object(5)\n",
      "memory usage: 155.0+ MB\n"
     ]
    }
   ],
   "source": [
    "#check data types\n",
    "# Dataset contains ~2.5 million fashion reviews with rating, text, and product metadata\n",
    "df.info()"
   ]
  },
  {
   "cell_type": "code",
   "execution_count": 4,
   "id": "60d4f529-3a91-4594-9860-723dc4d87752",
   "metadata": {},
   "outputs": [
    {
     "data": {
      "text/plain": [
       "rating                  0\n",
       "text                 1094\n",
       "asin                    0\n",
       "user_id                 0\n",
       "timestamp               0\n",
       "helpful_vote            0\n",
       "verified_purchase       0\n",
       "main_category           0\n",
       "review_date             0\n",
       "dtype: int64"
      ]
     },
     "execution_count": 4,
     "metadata": {},
     "output_type": "execute_result"
    }
   ],
   "source": [
    "#check for missing values\n",
    "df.isnull().sum()"
   ]
  },
  {
   "cell_type": "code",
   "execution_count": 5,
   "id": "5f199312-d980-409f-95bd-34b18051432c",
   "metadata": {},
   "outputs": [],
   "source": [
    "# Drop rows with missing review text to ensure consistent sentiment analysis\n",
    "df= df.dropna(subset=['text'])"
   ]
  },
  {
   "cell_type": "code",
   "execution_count": 6,
   "id": "472b093e-8a0d-4fb6-af63-51e58b7ec5ac",
   "metadata": {},
   "outputs": [
    {
     "data": {
      "text/plain": [
       "rating               0\n",
       "text                 0\n",
       "asin                 0\n",
       "user_id              0\n",
       "timestamp            0\n",
       "helpful_vote         0\n",
       "verified_purchase    0\n",
       "main_category        0\n",
       "review_date          0\n",
       "dtype: int64"
      ]
     },
     "execution_count": 6,
     "metadata": {},
     "output_type": "execute_result"
    }
   ],
   "source": [
    "df.isnull().sum()"
   ]
  },
  {
   "cell_type": "code",
   "execution_count": 7,
   "id": "13d04e00-4eb0-4e12-8230-531e5a610278",
   "metadata": {},
   "outputs": [],
   "source": [
    "# Convert review date to datetime format for lifecycle modeling\n",
    "df['review_date'] = pd.to_datetime(df['review_date'])"
   ]
  },
  {
   "cell_type": "code",
   "execution_count": 8,
   "id": "98150a99-9f50-4d9d-8f94-efc1aaa63fb8",
   "metadata": {},
   "outputs": [
    {
     "name": "stdout",
     "output_type": "stream",
     "text": [
      "<class 'pandas.core.frame.DataFrame'>\n",
      "Index: 2499845 entries, 0 to 2500938\n",
      "Data columns (total 9 columns):\n",
      " #   Column             Dtype         \n",
      "---  ------             -----         \n",
      " 0   rating             float64       \n",
      " 1   text               object        \n",
      " 2   asin               object        \n",
      " 3   user_id            object        \n",
      " 4   timestamp          int64         \n",
      " 5   helpful_vote       int64         \n",
      " 6   verified_purchase  bool          \n",
      " 7   main_category      object        \n",
      " 8   review_date        datetime64[ns]\n",
      "dtypes: bool(1), datetime64[ns](1), float64(1), int64(2), object(4)\n",
      "memory usage: 174.0+ MB\n"
     ]
    }
   ],
   "source": [
    "df.info()"
   ]
  },
  {
   "cell_type": "code",
   "execution_count": 9,
   "id": "bd9314e5-90c0-4c86-84ad-ef15ce801f3e",
   "metadata": {},
   "outputs": [
    {
     "data": {
      "text/plain": [
       "0   2020-01-09 00:06:34.489\n",
       "1   2020-12-20 01:04:06.701\n",
       "2   2015-05-23 01:33:48.000\n",
       "3   2018-12-31 20:57:27.095\n",
       "4   2015-08-13 14:29:26.000\n",
       "Name: review_date, dtype: datetime64[ns]"
      ]
     },
     "execution_count": 9,
     "metadata": {},
     "output_type": "execute_result"
    }
   ],
   "source": [
    "df['review_date'].head()"
   ]
  },
  {
   "cell_type": "markdown",
   "id": "799c18cc-dab1-40ad-8eea-d0414ec5ee4e",
   "metadata": {},
   "source": [
    "# Temporal Structuring & Lifecycle Modeling"
   ]
  },
  {
   "cell_type": "code",
   "execution_count": 10,
   "id": "12137dd0-4f3f-4771-b814-1ce186c1678a",
   "metadata": {},
   "outputs": [],
   "source": [
    "# Sort reviews chronologically by product ID and timestamp\n",
    "# Group by month to track review volume trends over time\n",
    "df= df.sort_values(by=['asin', 'review_date'])\n",
    "review_counts = df.groupby(['asin', pd.Grouper(key='review_date', freq='ME')])['rating'].count().reset_index()"
   ]
  },
  {
   "cell_type": "markdown",
   "id": "afb097af-09da-40ae-8e72-269b4fcbe18b",
   "metadata": {},
   "source": [
    "### Extract product launch date using first review timestamp\n",
    "### Calculate days since launch for each review\n",
    "### Classify reviews into product lifecycle stages (Launch, Growth, Mature, Decline)"
   ]
  },
  {
   "cell_type": "code",
   "execution_count": 11,
   "id": "ade4b963-1727-4a6c-9947-3287458c825f",
   "metadata": {},
   "outputs": [],
   "source": [
    "# Get launch date per product\n",
    "launch_dates = df.groupby('asin')['review_date'].min().rename('launch_date')\n",
    "df = df.merge(launch_dates, on ='asin')"
   ]
  },
  {
   "cell_type": "code",
   "execution_count": 12,
   "id": "6817953c-b326-4b32-b873-e0771c64a6bd",
   "metadata": {},
   "outputs": [],
   "source": [
    "#calculate days since launch\n",
    "df['days_since_launch'] = (df['review_date']-df['launch_date']).dt.days"
   ]
  },
  {
   "cell_type": "code",
   "execution_count": 13,
   "id": "861ecee9-e1f6-4b54-9fe6-165447254899",
   "metadata": {},
   "outputs": [],
   "source": [
    "#Tag lifecycle stage\n",
    "df['lifecycle_stage']=pd.cut(\n",
    "    df['days_since_launch'],\n",
    "    bins=[-1, 30, 90, 180, 10000],\n",
    "    labels=['Launch', 'Growth', 'Mature', 'Decline']\n",
    ")"
   ]
  },
  {
   "cell_type": "code",
   "execution_count": 14,
   "id": "f9d6dae0-2daa-4f8c-bde3-c83c571cac84",
   "metadata": {},
   "outputs": [
    {
     "data": {
      "text/html": [
       "<div>\n",
       "<style scoped>\n",
       "    .dataframe tbody tr th:only-of-type {\n",
       "        vertical-align: middle;\n",
       "    }\n",
       "\n",
       "    .dataframe tbody tr th {\n",
       "        vertical-align: top;\n",
       "    }\n",
       "\n",
       "    .dataframe thead th {\n",
       "        text-align: right;\n",
       "    }\n",
       "</style>\n",
       "<table border=\"1\" class=\"dataframe\">\n",
       "  <thead>\n",
       "    <tr style=\"text-align: right;\">\n",
       "      <th></th>\n",
       "      <th>rating</th>\n",
       "      <th>text</th>\n",
       "      <th>asin</th>\n",
       "      <th>user_id</th>\n",
       "      <th>timestamp</th>\n",
       "      <th>helpful_vote</th>\n",
       "      <th>verified_purchase</th>\n",
       "      <th>main_category</th>\n",
       "      <th>review_date</th>\n",
       "      <th>launch_date</th>\n",
       "      <th>days_since_launch</th>\n",
       "      <th>lifecycle_stage</th>\n",
       "    </tr>\n",
       "  </thead>\n",
       "  <tbody>\n",
       "    <tr>\n",
       "      <th>0</th>\n",
       "      <td>5.0</td>\n",
       "      <td>I'm 6'1\" and usually get xl but at this price ...</td>\n",
       "      <td>0000099813</td>\n",
       "      <td>AF4X5EEPQF23KFIEWWJWFBR4J3TQ</td>\n",
       "      <td>1573785465165</td>\n",
       "      <td>0</td>\n",
       "      <td>True</td>\n",
       "      <td>AMAZON FASHION</td>\n",
       "      <td>2019-11-15 02:37:45.165</td>\n",
       "      <td>2019-11-15 02:37:45.165</td>\n",
       "      <td>0</td>\n",
       "      <td>Launch</td>\n",
       "    </tr>\n",
       "    <tr>\n",
       "      <th>1</th>\n",
       "      <td>5.0</td>\n",
       "      <td>I jeep with Doors &amp; top off in 30 &amp; below weat...</td>\n",
       "      <td>0000099813</td>\n",
       "      <td>AH2JIO7552XIPHTNRXLG73NHGXEA</td>\n",
       "      <td>1577880862504</td>\n",
       "      <td>0</td>\n",
       "      <td>True</td>\n",
       "      <td>AMAZON FASHION</td>\n",
       "      <td>2020-01-01 12:14:22.504</td>\n",
       "      <td>2019-11-15 02:37:45.165</td>\n",
       "      <td>47</td>\n",
       "      <td>Growth</td>\n",
       "    </tr>\n",
       "    <tr>\n",
       "      <th>2</th>\n",
       "      <td>5.0</td>\n",
       "      <td>I bought elsewhere before I saw them here. The...</td>\n",
       "      <td>0000099813</td>\n",
       "      <td>AGNTVEUIXCLPEI7TOFQURTRT264A</td>\n",
       "      <td>1580183810473</td>\n",
       "      <td>0</td>\n",
       "      <td>False</td>\n",
       "      <td>AMAZON FASHION</td>\n",
       "      <td>2020-01-28 03:56:50.473</td>\n",
       "      <td>2019-11-15 02:37:45.165</td>\n",
       "      <td>74</td>\n",
       "      <td>Growth</td>\n",
       "    </tr>\n",
       "    <tr>\n",
       "      <th>3</th>\n",
       "      <td>5.0</td>\n",
       "      <td>I carry my bible and  I le accessories in this...</td>\n",
       "      <td>0310807115</td>\n",
       "      <td>AFL2SICKO2EBKUJBDB5SXQHCG5HQ</td>\n",
       "      <td>1352609059000</td>\n",
       "      <td>0</td>\n",
       "      <td>True</td>\n",
       "      <td>AMAZON FASHION</td>\n",
       "      <td>2012-11-11 04:44:19.000</td>\n",
       "      <td>2012-11-11 04:44:19.000</td>\n",
       "      <td>0</td>\n",
       "      <td>Launch</td>\n",
       "    </tr>\n",
       "    <tr>\n",
       "      <th>4</th>\n",
       "      <td>5.0</td>\n",
       "      <td>Me encantó y quedó mi talla.</td>\n",
       "      <td>0512238944</td>\n",
       "      <td>AH4YEZV2KLY4ANWX6ULQGQC264NA</td>\n",
       "      <td>1652874872495</td>\n",
       "      <td>0</td>\n",
       "      <td>True</td>\n",
       "      <td>AMAZON FASHION</td>\n",
       "      <td>2022-05-18 11:54:32.495</td>\n",
       "      <td>2022-05-18 11:54:32.495</td>\n",
       "      <td>0</td>\n",
       "      <td>Launch</td>\n",
       "    </tr>\n",
       "  </tbody>\n",
       "</table>\n",
       "</div>"
      ],
      "text/plain": [
       "   rating                                               text        asin  \\\n",
       "0     5.0  I'm 6'1\" and usually get xl but at this price ...  0000099813   \n",
       "1     5.0  I jeep with Doors & top off in 30 & below weat...  0000099813   \n",
       "2     5.0  I bought elsewhere before I saw them here. The...  0000099813   \n",
       "3     5.0  I carry my bible and  I le accessories in this...  0310807115   \n",
       "4     5.0                       Me encantó y quedó mi talla.  0512238944   \n",
       "\n",
       "                        user_id      timestamp  helpful_vote  \\\n",
       "0  AF4X5EEPQF23KFIEWWJWFBR4J3TQ  1573785465165             0   \n",
       "1  AH2JIO7552XIPHTNRXLG73NHGXEA  1577880862504             0   \n",
       "2  AGNTVEUIXCLPEI7TOFQURTRT264A  1580183810473             0   \n",
       "3  AFL2SICKO2EBKUJBDB5SXQHCG5HQ  1352609059000             0   \n",
       "4  AH4YEZV2KLY4ANWX6ULQGQC264NA  1652874872495             0   \n",
       "\n",
       "   verified_purchase   main_category             review_date  \\\n",
       "0               True  AMAZON FASHION 2019-11-15 02:37:45.165   \n",
       "1               True  AMAZON FASHION 2020-01-01 12:14:22.504   \n",
       "2              False  AMAZON FASHION 2020-01-28 03:56:50.473   \n",
       "3               True  AMAZON FASHION 2012-11-11 04:44:19.000   \n",
       "4               True  AMAZON FASHION 2022-05-18 11:54:32.495   \n",
       "\n",
       "              launch_date  days_since_launch lifecycle_stage  \n",
       "0 2019-11-15 02:37:45.165                  0          Launch  \n",
       "1 2019-11-15 02:37:45.165                 47          Growth  \n",
       "2 2019-11-15 02:37:45.165                 74          Growth  \n",
       "3 2012-11-11 04:44:19.000                  0          Launch  \n",
       "4 2022-05-18 11:54:32.495                  0          Launch  "
      ]
     },
     "execution_count": 14,
     "metadata": {},
     "output_type": "execute_result"
    }
   ],
   "source": [
    "df.head()"
   ]
  },
  {
   "cell_type": "markdown",
   "id": "188e0e47-32d9-49f2-b647-e68669a6b8c3",
   "metadata": {},
   "source": [
    "# Text Processing and sentiment scoring\n",
    "\n",
    "### Clean review text: lowercase, remove punctuation, normalize spacing\n",
    "### Score baseline sentiment polarity using TextBlob\n",
    "### Label sentiment as Positive, Neutral, or Negative based on polarity thresholds\n"
   ]
  },
  {
   "cell_type": "code",
   "execution_count": 15,
   "id": "1bc62ef0-6f28-4a87-b56c-29517f7b9c80",
   "metadata": {},
   "outputs": [],
   "source": [
    "import re\n",
    "\n",
    "def clean_text(text):\n",
    "    text = str(text).lower() \n",
    "    text = re.sub(r'[^a-z\\s]', '', text) #remove puntuation and special character\n",
    "    text = re.sub(r'\\s+', ' ', text).strip() # Normalize white spaces\n",
    "    return text\n",
    "    "
   ]
  },
  {
   "cell_type": "code",
   "execution_count": 16,
   "id": "9a974eb2-ca67-4272-9e9d-d143bfe8d787",
   "metadata": {},
   "outputs": [],
   "source": [
    "df['clean_text'] = df['text'].apply(clean_text)"
   ]
  },
  {
   "cell_type": "code",
   "execution_count": 17,
   "id": "755e3bb6-c042-4b92-b249-7e71cc56ed9e",
   "metadata": {},
   "outputs": [],
   "source": [
    "# BAseline Sentiment Scoring\n",
    "from textblob import TextBlob\n",
    "df['sentiment_score'] =df['clean_text'].apply(lambda x: TextBlob(x).sentiment.polarity)"
   ]
  },
  {
   "cell_type": "code",
   "execution_count": 18,
   "id": "28ac78a5-d451-4da1-b690-8e55e8d5befc",
   "metadata": {},
   "outputs": [],
   "source": [
    "def label_sentiment(score):\n",
    "    if score > 0.2:\n",
    "        return 'Positive'\n",
    "    elif score < -0.2:\n",
    "        return 'Negative'\n",
    "    else:\n",
    "        return 'Neutral'\n",
    "df['sentiment_label']=df['sentiment_score'].apply(label_sentiment)"
   ]
  },
  {
   "cell_type": "markdown",
   "id": "37cd13bc-e370-42ea-bef9-cd973ed893ae",
   "metadata": {},
   "source": [
    "# Aspect Basic Tagging\n",
    "\n",
    "### Define keyword sets for core aspects: fit, quality, delivery, price\n",
    "### Tag each review based on keyword matches\n",
    "### Default to 'general' if no aspect keyword is found"
   ]
  },
  {
   "cell_type": "code",
   "execution_count": 19,
   "id": "440274bd-ecf7-4734-9258-81a83786455e",
   "metadata": {},
   "outputs": [],
   "source": [
    "# Basic Aspect tagging\n",
    "aspects = {\n",
    "    \"fit\": [\"fit\", \"size\", \"tight\", \"loose\", \"snug\"],\n",
    "    \"quality\": [\"quality\", \"material\", \"fabric\", \"stitch\", \"durable\"],\n",
    "    \"delivery\": [\"delivery\", \"shipping\", \"arrived\", \"late\", \"fast\"],\n",
    "    \"price\": [\"price\", \"cost\", \"expensive\", \"cheap\", \"value\"]\n",
    "}"
   ]
  },
  {
   "cell_type": "code",
   "execution_count": 20,
   "id": "28e84bca-0720-41cf-84af-6adc3d8d0ce2",
   "metadata": {},
   "outputs": [],
   "source": [
    "def find_aspects(text):\n",
    "    aspect_hits= []\n",
    "    for aspect, keywords in aspects.items():\n",
    "        if any (word in text for word in keywords):\n",
    "            aspect_hits.append(aspect)\n",
    "    return aspect_hits if aspect_hits else ['general']\n",
    "\n",
    "df['aspects'] = df['clean_text']. apply(find_aspects)"
   ]
  },
  {
   "cell_type": "markdown",
   "id": "51e75411-80f9-4f64-b12b-33d54214eec9",
   "metadata": {},
   "source": [
    "# Feature  engineering\n",
    "\n",
    "### Encode lifecycle stage as numeric feature\n",
    "### Binarize aspect tags into separate columns: fit, quality, delivery, price, general\n",
    "### Scale sentiment scores for model readiness\n",
    "### Create review length feature based on word count\n",
    "### Encode main category as numeric feature"
   ]
  },
  {
   "cell_type": "code",
   "execution_count": 21,
   "id": "4d42cd68-28cf-4b8b-b818-1b4dcc9813e0",
   "metadata": {},
   "outputs": [],
   "source": [
    "# Feature  engineering\n",
    "# Encode categorical features\n",
    "\n",
    "from sklearn.preprocessing import LabelEncoder\n",
    "\n",
    "le = LabelEncoder()\n",
    "df['lifecycle_code'] = le.fit_transform(df['lifecycle_stage'])"
   ]
  },
  {
   "cell_type": "code",
   "execution_count": 22,
   "id": "bbaf38d2-01ab-4bfc-8d1e-697ff1ca29b5",
   "metadata": {},
   "outputs": [],
   "source": [
    "# Encode aspect tags: Tagging each aspect as a binary feature\n",
    "\n",
    "from sklearn.preprocessing import MultiLabelBinarizer\n",
    "\n",
    "mlb = MultiLabelBinarizer()\n",
    "aspect_encoded = mlb.fit_transform(df['aspects'])\n",
    "aspect_df = pd.DataFrame(aspect_encoded, columns=mlb.classes_)\n",
    "df =pd.concat([df, aspect_df], axis=1)"
   ]
  },
  {
   "cell_type": "code",
   "execution_count": 23,
   "id": "743d0373-a89f-41d8-8905-614b798df425",
   "metadata": {},
   "outputs": [],
   "source": [
    "# scale numerical features\n",
    "from sklearn.preprocessing import StandardScaler\n",
    "scaler = StandardScaler()\n",
    "df['scaled_sentiment'] = scaler.fit_transform(df[['sentiment_score']])"
   ]
  },
  {
   "cell_type": "code",
   "execution_count": 24,
   "id": "7e575961-cb9c-4caa-98ea-aa8d9beb7935",
   "metadata": {},
   "outputs": [],
   "source": [
    "# Create review length feature based on word count\n",
    "df[\"review_length\"] = df[\"clean_text\"].apply(lambda x: len(x.split()))"
   ]
  },
  {
   "cell_type": "code",
   "execution_count": 25,
   "id": "0a8bae67-d3d8-43b6-a105-00a1f460ed9a",
   "metadata": {},
   "outputs": [],
   "source": [
    "# Encode main category as numeric feature\n",
    "from sklearn.preprocessing import LabelEncoder\n",
    "\n",
    "le = LabelEncoder()\n",
    "df[\"main_category_code\"] = le.fit_transform(df[\"main_category\"])"
   ]
  },
  {
   "cell_type": "markdown",
   "id": "c418d40a-bf18-4888-a820-48788ef1d9d1",
   "metadata": {},
   "source": [
    "# Model building and Evaluation\n",
    "### Check for rating class imbalance using value counts and bar plot\n",
    "\n",
    "### Apply stratified sampling to preserve rating distribution in train/test split\n",
    "\n",
    "### Train Random Forest Regressor on engineered features to predict customer ratings\n",
    "\n",
    "### Evaluate model using MAE and RMSE for performance assessment"
   ]
  },
  {
   "cell_type": "code",
   "execution_count": 26,
   "id": "08589ebf-4caf-43ab-a51d-c7f63ef3dffc",
   "metadata": {},
   "outputs": [],
   "source": [
    "#Define target and feature set\n",
    "features = [\n",
    "    \"sentiment_score\",\n",
    "    \"review_length\",           \n",
    "    \"lifecycle_code\",          \n",
    "    \"main_category_code\",          \n",
    "    \"verified_purchase\",       \n",
    "    \"helpful_vote\",            \n",
    "    \"scaled_sentiment\",        \n",
    "    # Aspect flags\n",
    "    \"fit\", \"quality\", \"delivery\", \"price\", \"general\"\n",
    "]\n",
    "target = \"rating\""
   ]
  },
  {
   "cell_type": "code",
   "execution_count": 27,
   "id": "94d7f915-e615-428d-b2c0-083e6ecc2e10",
   "metadata": {},
   "outputs": [
    {
     "data": {
      "text/plain": [
       "<Axes: xlabel='rating'>"
      ]
     },
     "execution_count": 27,
     "metadata": {},
     "output_type": "execute_result"
    },
    {
     "data": {
      "image/png": "[encoded data removed]",
      "text/plain": [
       "<Figure size 640x480 with 1 Axes>"
      ]
     },
     "metadata": {},
     "output_type": "display_data"
    }
   ],
   "source": [
    "#check for class balance\n",
    "\n",
    "df[target]. value_counts().sort_index().plot(kind='bar')"
   ]
  },
  {
   "cell_type": "code",
   "execution_count": 28,
   "id": "f993c141-a7c4-40b8-9dae-5d5358c2fd4a",
   "metadata": {},
   "outputs": [
    {
     "data": {
      "text/plain": [
       "rating\n",
       "5.0    1425489\n",
       "4.0     352153\n",
       "1.0     303343\n",
       "3.0     245422\n",
       "2.0     173438\n",
       "Name: count, dtype: int64"
      ]
     },
     "execution_count": 28,
     "metadata": {},
     "output_type": "execute_result"
    }
   ],
   "source": [
    "df[target]. value_counts()"
   ]
  },
  {
   "cell_type": "code",
   "execution_count": 29,
   "id": "c63a401f-b4ae-48d1-ac8b-eebb48112f5b",
   "metadata": {},
   "outputs": [],
   "source": [
    "# Use stratified sampling to ensure each ratimg class is proportionally represented\n",
    "\n",
    "from sklearn.model_selection import StratifiedShuffleSplit\n",
    "split = StratifiedShuffleSplit(n_splits=1, test_size=0.2, random_state=42)\n",
    "\n",
    "for train_idx, test_idx in split.split(df, df['rating']):\n",
    "    train_set = df.loc[train_idx]\n",
    "    test_set = df.loc[test_idx]\n",
    "\n",
    "x_train = train_set[features]\n",
    "y_train = train_set['rating']\n",
    "\n",
    "x_test = test_set[features]\n",
    "y_test = test_set['rating']"
   ]
  },
  {
   "cell_type": "code",
   "execution_count": 30,
   "id": "e4ea6b12-2c71-42f4-adab-ef37d94e2a51",
   "metadata": {},
   "outputs": [
    {
     "name": "stdout",
     "output_type": "stream",
     "text": [
      "['rating', 'text', 'asin', 'user_id', 'timestamp', 'helpful_vote', 'verified_purchase', 'main_category', 'review_date', 'launch_date', 'days_since_launch', 'lifecycle_stage', 'clean_text', 'sentiment_score', 'sentiment_label', 'aspects', 'lifecycle_code', 'delivery', 'fit', 'general', 'price', 'quality', 'scaled_sentiment', 'review_length', 'main_category_code']\n"
     ]
    }
   ],
   "source": [
    "print(df.columns.tolist())\n"
   ]
  },
  {
   "cell_type": "code",
   "execution_count": 31,
   "id": "7c7c75d5-8d3c-425e-a10b-cf043fd20c77",
   "metadata": {},
   "outputs": [
    {
     "data": {
      "text/html": [
       "<style>#sk-container-id-1 {\n",
       "  /* Definition of color scheme common for light and dark mode */\n",
       "  --sklearn-color-text: #000;\n",
       "  --sklearn-color-text-muted: #666;\n",
       "  --sklearn-color-line: gray;\n",
       "  /* Definition of color scheme for unfitted estimators */\n",
       "  --sklearn-color-unfitted-level-0: #fff5e6;\n",
       "  --sklearn-color-unfitted-level-1: #f6e4d2;\n",
       "  --sklearn-color-unfitted-level-2: #ffe0b3;\n",
       "  --sklearn-color-unfitted-level-3: chocolate;\n",
       "  /* Definition of color scheme for fitted estimators */\n",
       "  --sklearn-color-fitted-level-0: #f0f8ff;\n",
       "  --sklearn-color-fitted-level-1: #d4ebff;\n",
       "  --sklearn-color-fitted-level-2: #b3dbfd;\n",
       "  --sklearn-color-fitted-level-3: cornflowerblue;\n",
       "\n",
       "  /* Specific color for light theme */\n",
       "  --sklearn-color-text-on-default-background: var(--sg-text-color, var(--theme-code-foreground, var(--jp-content-font-color1, black)));\n",
       "  --sklearn-color-background: var(--sg-background-color, var(--theme-background, var(--jp-layout-color0, white)));\n",
       "  --sklearn-color-border-box: var(--sg-text-color, var(--theme-code-foreground, var(--jp-content-font-color1, black)));\n",
       "  --sklearn-color-icon: #696969;\n",
       "\n",
       "  @media (prefers-color-scheme: dark) {\n",
       "    /* Redefinition of color scheme for dark theme */\n",
       "    --sklearn-color-text-on-default-background: var(--sg-text-color, var(--theme-code-foreground, var(--jp-content-font-color1, white)));\n",
       "    --sklearn-color-background: var(--sg-background-color, var(--theme-background, var(--jp-layout-color0, #111)));\n",
       "    --sklearn-color-border-box: var(--sg-text-color, var(--theme-code-foreground, var(--jp-content-font-color1, white)));\n",
       "    --sklearn-color-icon: #878787;\n",
       "  }\n",
       "}\n",
       "\n",
       "#sk-container-id-1 {\n",
       "  color: var(--sklearn-color-text);\n",
       "}\n",
       "\n",
       "#sk-container-id-1 pre {\n",
       "  padding: 0;\n",
       "}\n",
       "\n",
       "#sk-container-id-1 input.sk-hidden--visually {\n",
       "  border: 0;\n",
       "  clip: rect(1px 1px 1px 1px);\n",
       "  clip: rect(1px, 1px, 1px, 1px);\n",
       "  height: 1px;\n",
       "  margin: -1px;\n",
       "  overflow: hidden;\n",
       "  padding: 0;\n",
       "  position: absolute;\n",
       "  width: 1px;\n",
       "}\n",
       "\n",
       "#sk-container-id-1 div.sk-dashed-wrapped {\n",
       "  border: 1px dashed var(--sklearn-color-line);\n",
       "  margin: 0 0.4em 0.5em 0.4em;\n",
       "  box-sizing: border-box;\n",
       "  padding-bottom: 0.4em;\n",
       "  background-color: var(--sklearn-color-background);\n",
       "}\n",
       "\n",
       "#sk-container-id-1 div.sk-container {\n",
       "  /* jupyter's `normalize.less` sets `[hidden] { display: none; }`\n",
       "     but bootstrap.min.css set `[hidden] { display: none !important; }`\n",
       "     so we also need the `!important` here to be able to override the\n",
       "     default hidden behavior on the sphinx rendered scikit-learn.org.\n",
       "     See: https://github.com/scikit-learn/scikit-learn/issues/21755 */\n",
       "  display: inline-block !important;\n",
       "  position: relative;\n",
       "}\n",
       "\n",
       "#sk-container-id-1 div.sk-text-repr-fallback {\n",
       "  display: none;\n",
       "}\n",
       "\n",
       "div.sk-parallel-item,\n",
       "div.sk-serial,\n",
       "div.sk-item {\n",
       "  /* draw centered vertical line to link estimators */\n",
       "  background-image: linear-gradient(var(--sklearn-color-text-on-default-background), var(--sklearn-color-text-on-default-background));\n",
       "  background-size: 2px 100%;\n",
       "  background-repeat: no-repeat;\n",
       "  background-position: center center;\n",
       "}\n",
       "\n",
       "/* Parallel-specific style estimator block */\n",
       "\n",
       "#sk-container-id-1 div.sk-parallel-item::after {\n",
       "  content: \"\";\n",
       "  width: 100%;\n",
       "  border-bottom: 2px solid var(--sklearn-color-text-on-default-background);\n",
       "  flex-grow: 1;\n",
       "}\n",
       "\n",
       "#sk-container-id-1 div.sk-parallel {\n",
       "  display: flex;\n",
       "  align-items: stretch;\n",
       "  justify-content: center;\n",
       "  background-color: var(--sklearn-color-background);\n",
       "  position: relative;\n",
       "}\n",
       "\n",
       "#sk-container-id-1 div.sk-parallel-item {\n",
       "  display: flex;\n",
       "  flex-direction: column;\n",
       "}\n",
       "\n",
       "#sk-container-id-1 div.sk-parallel-item:first-child::after {\n",
       "  align-self: flex-end;\n",
       "  width: 50%;\n",
       "}\n",
       "\n",
       "#sk-container-id-1 div.sk-parallel-item:last-child::after {\n",
       "  align-self: flex-start;\n",
       "  width: 50%;\n",
       "}\n",
       "\n",
       "#sk-container-id-1 div.sk-parallel-item:only-child::after {\n",
       "  width: 0;\n",
       "}\n",
       "\n",
       "/* Serial-specific style estimator block */\n",
       "\n",
       "#sk-container-id-1 div.sk-serial {\n",
       "  display: flex;\n",
       "  flex-direction: column;\n",
       "  align-items: center;\n",
       "  background-color: var(--sklearn-color-background);\n",
       "  padding-right: 1em;\n",
       "  padding-left: 1em;\n",
       "}\n",
       "\n",
       "\n",
       "/* Toggleable style: style used for estimator/Pipeline/ColumnTransformer box that is\n",
       "clickable and can be expanded/collapsed.\n",
       "- Pipeline and ColumnTransformer use this feature and define the default style\n",
       "- Estimators will overwrite some part of the style using the `sk-estimator` class\n",
       "*/\n",
       "\n",
       "/* Pipeline and ColumnTransformer style (default) */\n",
       "\n",
       "#sk-container-id-1 div.sk-toggleable {\n",
       "  /* Default theme specific background. It is overwritten whether we have a\n",
       "  specific estimator or a Pipeline/ColumnTransformer */\n",
       "  background-color: var(--sklearn-color-background);\n",
       "}\n",
       "\n",
       "/* Toggleable label */\n",
       "#sk-container-id-1 label.sk-toggleable__label {\n",
       "  cursor: pointer;\n",
       "  display: flex;\n",
       "  width: 100%;\n",
       "  margin-bottom: 0;\n",
       "  padding: 0.5em;\n",
       "  box-sizing: border-box;\n",
       "  text-align: center;\n",
       "  align-items: start;\n",
       "  justify-content: space-between;\n",
       "  gap: 0.5em;\n",
       "}\n",
       "\n",
       "#sk-container-id-1 label.sk-toggleable__label .caption {\n",
       "  font-size: 0.6rem;\n",
       "  font-weight: lighter;\n",
       "  color: var(--sklearn-color-text-muted);\n",
       "}\n",
       "\n",
       "#sk-container-id-1 label.sk-toggleable__label-arrow:before {\n",
       "  /* Arrow on the left of the label */\n",
       "  content: \"▸\";\n",
       "  float: left;\n",
       "  margin-right: 0.25em;\n",
       "  color: var(--sklearn-color-icon);\n",
       "}\n",
       "\n",
       "#sk-container-id-1 label.sk-toggleable__label-arrow:hover:before {\n",
       "  color: var(--sklearn-color-text);\n",
       "}\n",
       "\n",
       "/* Toggleable content - dropdown */\n",
       "\n",
       "#sk-container-id-1 div.sk-toggleable__content {\n",
       "  max-height: 0;\n",
       "  max-width: 0;\n",
       "  overflow: hidden;\n",
       "  text-align: left;\n",
       "  /* unfitted */\n",
       "  background-color: var(--sklearn-color-unfitted-level-0);\n",
       "}\n",
       "\n",
       "#sk-container-id-1 div.sk-toggleable__content.fitted {\n",
       "  /* fitted */\n",
       "  background-color: var(--sklearn-color-fitted-level-0);\n",
       "}\n",
       "\n",
       "#sk-container-id-1 div.sk-toggleable__content pre {\n",
       "  margin: 0.2em;\n",
       "  border-radius: 0.25em;\n",
       "  color: var(--sklearn-color-text);\n",
       "  /* unfitted */\n",
       "  background-color: var(--sklearn-color-unfitted-level-0);\n",
       "}\n",
       "\n",
       "#sk-container-id-1 div.sk-toggleable__content.fitted pre {\n",
       "  /* unfitted */\n",
       "  background-color: var(--sklearn-color-fitted-level-0);\n",
       "}\n",
       "\n",
       "#sk-container-id-1 input.sk-toggleable__control:checked~div.sk-toggleable__content {\n",
       "  /* Expand drop-down */\n",
       "  max-height: 200px;\n",
       "  max-width: 100%;\n",
       "  overflow: auto;\n",
       "}\n",
       "\n",
       "#sk-container-id-1 input.sk-toggleable__control:checked~label.sk-toggleable__label-arrow:before {\n",
       "  content: \"▾\";\n",
       "}\n",
       "\n",
       "/* Pipeline/ColumnTransformer-specific style */\n",
       "\n",
       "#sk-container-id-1 div.sk-label input.sk-toggleable__control:checked~label.sk-toggleable__label {\n",
       "  color: var(--sklearn-color-text);\n",
       "  background-color: var(--sklearn-color-unfitted-level-2);\n",
       "}\n",
       "\n",
       "#sk-container-id-1 div.sk-label.fitted input.sk-toggleable__control:checked~label.sk-toggleable__label {\n",
       "  background-color: var(--sklearn-color-fitted-level-2);\n",
       "}\n",
       "\n",
       "/* Estimator-specific style */\n",
       "\n",
       "/* Colorize estimator box */\n",
       "#sk-container-id-1 div.sk-estimator input.sk-toggleable__control:checked~label.sk-toggleable__label {\n",
       "  /* unfitted */\n",
       "  background-color: var(--sklearn-color-unfitted-level-2);\n",
       "}\n",
       "\n",
       "#sk-container-id-1 div.sk-estimator.fitted input.sk-toggleable__control:checked~label.sk-toggleable__label {\n",
       "  /* fitted */\n",
       "  background-color: var(--sklearn-color-fitted-level-2);\n",
       "}\n",
       "\n",
       "#sk-container-id-1 div.sk-label label.sk-toggleable__label,\n",
       "#sk-container-id-1 div.sk-label label {\n",
       "  /* The background is the default theme color */\n",
       "  color: var(--sklearn-color-text-on-default-background);\n",
       "}\n",
       "\n",
       "/* On hover, darken the color of the background */\n",
       "#sk-container-id-1 div.sk-label:hover label.sk-toggleable__label {\n",
       "  color: var(--sklearn-color-text);\n",
       "  background-color: var(--sklearn-color-unfitted-level-2);\n",
       "}\n",
       "\n",
       "/* Label box, darken color on hover, fitted */\n",
       "#sk-container-id-1 div.sk-label.fitted:hover label.sk-toggleable__label.fitted {\n",
       "  color: var(--sklearn-color-text);\n",
       "  background-color: var(--sklearn-color-fitted-level-2);\n",
       "}\n",
       "\n",
       "/* Estimator label */\n",
       "\n",
       "#sk-container-id-1 div.sk-label label {\n",
       "  font-family: monospace;\n",
       "  font-weight: bold;\n",
       "  display: inline-block;\n",
       "  line-height: 1.2em;\n",
       "}\n",
       "\n",
       "#sk-container-id-1 div.sk-label-container {\n",
       "  text-align: center;\n",
       "}\n",
       "\n",
       "/* Estimator-specific */\n",
       "#sk-container-id-1 div.sk-estimator {\n",
       "  font-family: monospace;\n",
       "  border: 1px dotted var(--sklearn-color-border-box);\n",
       "  border-radius: 0.25em;\n",
       "  box-sizing: border-box;\n",
       "  margin-bottom: 0.5em;\n",
       "  /* unfitted */\n",
       "  background-color: var(--sklearn-color-unfitted-level-0);\n",
       "}\n",
       "\n",
       "#sk-container-id-1 div.sk-estimator.fitted {\n",
       "  /* fitted */\n",
       "  background-color: var(--sklearn-color-fitted-level-0);\n",
       "}\n",
       "\n",
       "/* on hover */\n",
       "#sk-container-id-1 div.sk-estimator:hover {\n",
       "  /* unfitted */\n",
       "  background-color: var(--sklearn-color-unfitted-level-2);\n",
       "}\n",
       "\n",
       "#sk-container-id-1 div.sk-estimator.fitted:hover {\n",
       "  /* fitted */\n",
       "  background-color: var(--sklearn-color-fitted-level-2);\n",
       "}\n",
       "\n",
       "/* Specification for estimator info (e.g. \"i\" and \"?\") */\n",
       "\n",
       "/* Common style for \"i\" and \"?\" */\n",
       "\n",
       ".sk-estimator-doc-link,\n",
       "a:link.sk-estimator-doc-link,\n",
       "a:visited.sk-estimator-doc-link {\n",
       "  float: right;\n",
       "  font-size: smaller;\n",
       "  line-height: 1em;\n",
       "  font-family: monospace;\n",
       "  background-color: var(--sklearn-color-background);\n",
       "  border-radius: 1em;\n",
       "  height: 1em;\n",
       "  width: 1em;\n",
       "  text-decoration: none !important;\n",
       "  margin-left: 0.5em;\n",
       "  text-align: center;\n",
       "  /* unfitted */\n",
       "  border: var(--sklearn-color-unfitted-level-1) 1pt solid;\n",
       "  color: var(--sklearn-color-unfitted-level-1);\n",
       "}\n",
       "\n",
       ".sk-estimator-doc-link.fitted,\n",
       "a:link.sk-estimator-doc-link.fitted,\n",
       "a:visited.sk-estimator-doc-link.fitted {\n",
       "  /* fitted */\n",
       "  border: var(--sklearn-color-fitted-level-1) 1pt solid;\n",
       "  color: var(--sklearn-color-fitted-level-1);\n",
       "}\n",
       "\n",
       "/* On hover */\n",
       "div.sk-estimator:hover .sk-estimator-doc-link:hover,\n",
       ".sk-estimator-doc-link:hover,\n",
       "div.sk-label-container:hover .sk-estimator-doc-link:hover,\n",
       ".sk-estimator-doc-link:hover {\n",
       "  /* unfitted */\n",
       "  background-color: var(--sklearn-color-unfitted-level-3);\n",
       "  color: var(--sklearn-color-background);\n",
       "  text-decoration: none;\n",
       "}\n",
       "\n",
       "div.sk-estimator.fitted:hover .sk-estimator-doc-link.fitted:hover,\n",
       ".sk-estimator-doc-link.fitted:hover,\n",
       "div.sk-label-container:hover .sk-estimator-doc-link.fitted:hover,\n",
       ".sk-estimator-doc-link.fitted:hover {\n",
       "  /* fitted */\n",
       "  background-color: var(--sklearn-color-fitted-level-3);\n",
       "  color: var(--sklearn-color-background);\n",
       "  text-decoration: none;\n",
       "}\n",
       "\n",
       "/* Span, style for the box shown on hovering the info icon */\n",
       ".sk-estimator-doc-link span {\n",
       "  display: none;\n",
       "  z-index: 9999;\n",
       "  position: relative;\n",
       "  font-weight: normal;\n",
       "  right: .2ex;\n",
       "  padding: .5ex;\n",
       "  margin: .5ex;\n",
       "  width: min-content;\n",
       "  min-width: 20ex;\n",
       "  max-width: 50ex;\n",
       "  color: var(--sklearn-color-text);\n",
       "  box-shadow: 2pt 2pt 4pt #999;\n",
       "  /* unfitted */\n",
       "  background: var(--sklearn-color-unfitted-level-0);\n",
       "  border: .5pt solid var(--sklearn-color-unfitted-level-3);\n",
       "}\n",
       "\n",
       ".sk-estimator-doc-link.fitted span {\n",
       "  /* fitted */\n",
       "  background: var(--sklearn-color-fitted-level-0);\n",
       "  border: var(--sklearn-color-fitted-level-3);\n",
       "}\n",
       "\n",
       ".sk-estimator-doc-link:hover span {\n",
       "  display: block;\n",
       "}\n",
       "\n",
       "/* \"?\"-specific style due to the `<a>` HTML tag */\n",
       "\n",
       "#sk-container-id-1 a.estimator_doc_link {\n",
       "  float: right;\n",
       "  font-size: 1rem;\n",
       "  line-height: 1em;\n",
       "  font-family: monospace;\n",
       "  background-color: var(--sklearn-color-background);\n",
       "  border-radius: 1rem;\n",
       "  height: 1rem;\n",
       "  width: 1rem;\n",
       "  text-decoration: none;\n",
       "  /* unfitted */\n",
       "  color: var(--sklearn-color-unfitted-level-1);\n",
       "  border: var(--sklearn-color-unfitted-level-1) 1pt solid;\n",
       "}\n",
       "\n",
       "#sk-container-id-1 a.estimator_doc_link.fitted {\n",
       "  /* fitted */\n",
       "  border: var(--sklearn-color-fitted-level-1) 1pt solid;\n",
       "  color: var(--sklearn-color-fitted-level-1);\n",
       "}\n",
       "\n",
       "/* On hover */\n",
       "#sk-container-id-1 a.estimator_doc_link:hover {\n",
       "  /* unfitted */\n",
       "  background-color: var(--sklearn-color-unfitted-level-3);\n",
       "  color: var(--sklearn-color-background);\n",
       "  text-decoration: none;\n",
       "}\n",
       "\n",
       "#sk-container-id-1 a.estimator_doc_link.fitted:hover {\n",
       "  /* fitted */\n",
       "  background-color: var(--sklearn-color-fitted-level-3);\n",
       "}\n",
       "</style><div id=\"sk-container-id-1\" class=\"sk-top-container\"><div class=\"sk-text-repr-fallback\"><pre>RandomForestRegressor(random_state=42)</pre><b>In a Jupyter environment, please rerun this cell to show the HTML representation or trust the notebook. <br />On GitHub, the HTML representation is unable to render, please try loading this page with nbviewer.org.</b></div><div class=\"sk-container\" hidden><div class=\"sk-item\"><div class=\"sk-estimator fitted sk-toggleable\"><input class=\"sk-toggleable__control sk-hidden--visually\" id=\"sk-estimator-id-1\" type=\"checkbox\" checked><label for=\"sk-estimator-id-1\" class=\"sk-toggleable__label fitted sk-toggleable__label-arrow\"><div><div>RandomForestRegressor</div></div><div><a class=\"sk-estimator-doc-link fitted\" rel=\"noreferrer\" target=\"_blank\" href=\"https://scikit-learn.org/1.6/modules/generated/sklearn.ensemble.RandomForestRegressor.html\">?<span>Documentation for RandomForestRegressor</span></a><span class=\"sk-estimator-doc-link fitted\">i<span>Fitted</span></span></div></label><div class=\"sk-toggleable__content fitted\"><pre>RandomForestRegressor(random_state=42)</pre></div> </div></div></div></div>"
      ],
      "text/plain": [
       "RandomForestRegressor(random_state=42)"
      ]
     },
     "execution_count": 31,
     "metadata": {},
     "output_type": "execute_result"
    }
   ],
   "source": [
    "# Random Forest Regressor\n",
    "from sklearn.ensemble import RandomForestRegressor\n",
    "from sklearn.metrics import mean_absolute_error, mean_squared_error\n",
    "\n",
    "model = RandomForestRegressor(n_estimators=100, random_state=42)\n",
    "model.fit(x_train, y_train)\n"
   ]
  },
  {
   "cell_type": "code",
   "execution_count": 32,
   "id": "486a0c26-3d3a-4bf8-8a65-fa74ad5fa5fa",
   "metadata": {},
   "outputs": [],
   "source": [
    "y_pred = model.predict(x_test)"
   ]
  },
  {
   "cell_type": "code",
   "execution_count": 33,
   "id": "4261f564-b6e2-41d5-8e9c-e411ff189ccb",
   "metadata": {},
   "outputs": [],
   "source": [
    "import os\n",
    "os.makedirs(\"plots\", exist_ok = True)"
   ]
  },
  {
   "cell_type": "code",
   "execution_count": 35,
   "id": "ab788d98-0cb5-46e6-bc82-8da5742bbb18",
   "metadata": {},
   "outputs": [
    {
     "data": {
      "image/png": "[encoded data removed]",
      "text/plain": [
       "<Figure size 640x480 with 1 Axes>"
      ]
     },
     "metadata": {},
     "output_type": "display_data"
    }
   ],
   "source": [
    "import matplotlib.pyplot as plt\n",
    "import seaborn as sns\n",
    "plt.scatter(y_test, y_pred, alpha=0.3)\n",
    "plt.xlabel(\"Actual Rating\")\n",
    "plt.ylabel(\"Predicted Rating\")\n",
    "plt.title(\"Actual vs Predicted Ratings\")\n",
    "plt.grid(True)\n",
    "plt.savefig(\"plots/actual_vs_predicted.png\", bbox_inches=\"tight\")\n",
    "plt.show()\n"
   ]
  },
  {
   "cell_type": "code",
   "execution_count": 36,
   "id": "5789b6bd-6258-4c75-add9-d3b3c24a027c",
   "metadata": {},
   "outputs": [
    {
     "data": {
      "image/png": "[encoded data removed]",
      "text/plain": [
       "<Figure size 800x600 with 1 Axes>"
      ]
     },
     "metadata": {},
     "output_type": "display_data"
    }
   ],
   "source": [
    "#residual plot to show prediction errors\n",
    "residuals = y_test - y_pred\n",
    "plt.figure(figsize=(8,6))\n",
    "plt.hist(residuals, bins=50)\n",
    "plt.title(\"Distribution of Prediction Errors\")\n",
    "plt.xlabel(\"Error\")\n",
    "plt.ylabel(\"Frequency\")\n",
    "plt.savefig(\"plots/error_distribution.png\", bbox_inches=\"tight\")\n",
    "plt.show()\n"
   ]
  },
  {
   "cell_type": "code",
   "execution_count": 37,
   "id": "349e4fe0-fcbe-4a03-904c-aafa055684e8",
   "metadata": {},
   "outputs": [
    {
     "name": "stdout",
     "output_type": "stream",
     "text": [
      "MAE: 0.87\n",
      "RMSE: 1.19\n"
     ]
    }
   ],
   "source": [
    "import numpy as np\n",
    "\n",
    "mae = mean_absolute_error(y_test, y_pred)\n",
    "mse= mean_squared_error(y_test, y_pred)\n",
    "rmse = np.sqrt(mse)\n",
    "\n",
    "print(f'MAE: {mae:.2f}')\n",
    "print(f'RMSE: {rmse:.2f}')"
   ]
  },
  {
   "cell_type": "code",
   "execution_count": 38,
   "id": "3f99b5d9-55bc-4084-9c06-72cef77aa47c",
   "metadata": {},
   "outputs": [
    {
     "data": {
      "image/png": "[encoded data removed]",
      "text/plain": [
       "<Figure size 640x480 with 1 Axes>"
      ]
     },
     "metadata": {},
     "output_type": "display_data"
    }
   ],
   "source": [
    "import matplotlib.pyplot as plt\n",
    "import seaborn as sns\n",
    "\n",
    "importances =pd.Series(model.feature_importances_, index =features)\n",
    "sns.barplot(x=importances, y=importances.index)\n",
    "plt.title(\"Feature Importance\")\n",
    "plt.xlabel(\"Importance Score\")\n",
    "plt.ylabel(\"Feature\")\n",
    "\n",
    "plt.tight_layout()\n",
    "plt.savefig(\"plots/feature_importance.png\", bbox_inches=\"tight\")\n",
    "plt.show()\n"
   ]
  },
  {
   "cell_type": "markdown",
   "id": "22c46281-7352-48c7-a51a-69d11626e3c3",
   "metadata": {},
   "source": [
    "# Summary and Next Steps\n",
    "This notebook models customer ratings from fashion reviews using sentiment polarity, aspect tags, and lifecycle features. While performance is solid (MAE ~0.87), future work will explore ordinal regression techniques and deeper aspect-sentiment interactions.\n",
    "\n",
    "Next steps include:\n",
    "- Model interpretation using SHAP\n",
    "- Lifecycle-aware feature tuning\n",
    "- Deployment of model insights into a dashboard or business strategy context"
   ]
  },
  {
   "cell_type": "code",
   "execution_count": null,
   "id": "63ae93d5-428f-4c30-85d6-c0ffc211a788",
   "metadata": {},
   "outputs": [],
   "source": []
  }
 ],
 "metadata": {
  "kernelspec": {
   "display_name": "Python 3",
   "language": "python",
   "name": "python3"
  },
  "language_info": {
   "codemirror_mode": {
    "name": "ipython",
    "version": 3
   },
   "file_extension": ".py",
   "mimetype": "text/x-python",
   "name": "python",
   "nbconvert_exporter": "python",
   "pygments_lexer": "ipython3",
   "version": "3.8.8"
  }
 },
 "nbformat": 4,
 "nbformat_minor": 5
}
